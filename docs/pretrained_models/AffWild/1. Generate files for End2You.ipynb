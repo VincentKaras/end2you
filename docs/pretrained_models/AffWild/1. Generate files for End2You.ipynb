{
 "cells": [
  {
   "cell_type": "markdown",
   "metadata": {},
   "source": [
    "# Generate files for End2You"
   ]
  },
  {
   "cell_type": "markdown",
   "metadata": {},
   "source": [
    "Here we provide an example on how to generate the required label files and the `input_file.csv` for the AffWild database in order to run End2You.\n",
    "\n",
    "The AffWild folder is structured as follows:\n",
    "\n",
    "```\n",
    "AffWild\n",
    "|─── annotations\n",
    "|   |─── train\n",
    "|   |   |─── arousal\n",
    "|   |   |   |─── 105.txt\n",
    "|   |   |   |─── 106.txt\n",
    "|   |   |   |─── ...\n",
    "|   |   |─── valence\n",
    "|   |   |   |─── 105.txt\n",
    "|   |   |   |─── 106.txt\n",
    "|   |   |   |─── ...\n",
    "|   |─── test\n",
    "|   |   |─── arousal\n",
    "|   |   |─── valence\n",
    "|─── bboxes\n",
    "|─── landmarks\n",
    "|─── videos\n",
    "|   |─── train\n",
    "|   |   |─── 105.avi\n",
    "|   |   |─── 106.avi\n",
    "|   |   |─── ...\n",
    "|   |─── test\n",
    "```"
   ]
  },
  {
   "cell_type": "markdown",
   "metadata": {},
   "source": [
    "## Set Paths"
   ]
  },
  {
   "cell_type": "code",
   "execution_count": 13,
   "metadata": {},
   "outputs": [],
   "source": [
    "import numpy as np\n",
    "from pathlib import Path\n",
    "\n",
    "root_dir = Path('/path/to/AffWild/')\n",
    "save_path = Path('/path/to/save/end2you_files')\n",
    "\n",
    "split = 'test'\n",
    "\n",
    "videos_dir = root_dir / 'videos' / split\n",
    "annotations = root_dir / 'annotations'\n",
    "\n",
    "arousal_path = annotations / split / 'arousal'\n",
    "valence_path = annotations / split / 'valence'"
   ]
  },
  {
   "cell_type": "markdown",
   "metadata": {},
   "source": [
    "## Write `input_file.csv`"
   ]
  },
  {
   "cell_type": "code",
   "execution_count": 14,
   "metadata": {},
   "outputs": [],
   "source": [
    "from moviepy.editor import VideoFileClip\n",
    "\n",
    "videos, annots = [], []\n",
    "for video_path in list(videos_dir.glob('*')):\n",
    "    \n",
    "    video_name = video_path.name[:-4]\n",
    "    clip = VideoFileClip(str(video_path))\n",
    "    fps = np.ceil(clip.fps).astype(int)\n",
    "    \n",
    "    arousal_file = arousal_path / (video_name + '.txt')\n",
    "    valence_file = valence_path / (video_name + '.txt')\n",
    "    \n",
    "    # Load arousal/valence annotation values\n",
    "    arousal_annot = np.loadtxt(arousal_file, dtype=np.float32).reshape(-1,1)\n",
    "    valence_annot = np.loadtxt(valence_file, dtype=np.float32).reshape(-1,1)\n",
    "    annotations = np.hstack([arousal_annot, valence_annot])\n",
    "    \n",
    "    # Find the time of each frame based on FPS\n",
    "    time = [0.0]\n",
    "    for t in range(annotations.shape[0]):\n",
    "        time.append(time[-1] + 1/clip.fps)\n",
    "    time = np.array(time).reshape(-1,1)\n",
    "    \n",
    "    # Save time/arousal/valence for each video in a csv file\n",
    "    data = np.hstack([time[:-1], annotations]).astype(np.float32)\n",
    "    save_annot = save_path / 'video_annot' / (video_name + '.csv')\n",
    "    np.savetxt(str(save_annot), data, fmt='%.4e', delimiter=',', header = 'time,arousal,valence')\n",
    "    \n",
    "    # Store videos and annotations paths to write `input_file.csv` file\n",
    "    videos.append(str(video_path))\n",
    "    annots.append(str(save_annot))"
   ]
  },
  {
   "cell_type": "code",
   "execution_count": 15,
   "metadata": {},
   "outputs": [],
   "source": [
    "vs = np.array(videos).reshape(-1, 1)\n",
    "annts = np.array(annots).reshape(-1, 1)"
   ]
  },
  {
   "cell_type": "code",
   "execution_count": 16,
   "metadata": {},
   "outputs": [],
   "source": [
    "# Save `input_file.csv`\n",
    "input_file_path = save_path / 'input_file_test.csv'\n",
    "np.savetxt(str(input_file_path), np.hstack([vs, annts]), fmt='%s', delimiter=',', header='video_file,annotation_file')"
   ]
  },
  {
   "cell_type": "code",
   "execution_count": null,
   "metadata": {},
   "outputs": [],
   "source": []
  }
 ],
 "metadata": {
  "kernelspec": {
   "display_name": "Py 3.9 End2You",
   "language": "python",
   "name": "end2you"
  },
  "language_info": {
   "codemirror_mode": {
    "name": "ipython",
    "version": 3
   },
   "file_extension": ".py",
   "mimetype": "text/x-python",
   "name": "python",
   "nbconvert_exporter": "python",
   "pygments_lexer": "ipython3",
   "version": "3.9.7"
  }
 },
 "nbformat": 4,
 "nbformat_minor": 4
}
