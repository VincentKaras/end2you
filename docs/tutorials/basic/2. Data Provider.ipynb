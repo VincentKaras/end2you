{
 "cells": [
  {
   "cell_type": "markdown",
   "metadata": {},
   "source": [
    "## Data Provider"
   ]
  },
  {
   "cell_type": "markdown",
   "metadata": {},
   "source": [
    "One can provider the data in the `.hdf5` files by invoking the data provider methods we support."
   ]
  },
  {
   "cell_type": "code",
   "execution_count": null,
   "metadata": {},
   "outputs": [],
   "source": [
    "from end2you.data_provider import get_dataloader\n",
    "from end2you.utils import Params"
   ]
  },
  {
   "cell_type": "markdown",
   "metadata": {},
   "source": [
    "We use the class `Params` to elegantly define the parameters required to load the data.\n",
    "The parameters for the provider are the following:\n",
    "```\n",
    "- batch_size  : The batch size to load.\n",
    "- is_training : If the loader is used in training or evaluation.\n",
    "- cuda        : Load data in cuda.\n",
    "- num_workers : Number of workers to use to load data.\n",
    "- seq_length  : Number of consecutive frames to load per batch.\n",
    "- modality    : Modality to be used for. Values `audio`, `visual`, `audiovisual`.\n",
    "- dataset_path: Path to .hdf5 files.\n",
    "```\n",
    "Example:"
   ]
  },
  {
   "cell_type": "code",
   "execution_count": null,
   "metadata": {},
   "outputs": [],
   "source": [
    "provider_params = Params({\n",
    "    'batch_size':1,\n",
    "    'is_training':True,\n",
    "    'cuda':False,\n",
    "    'num_workers':1,\n",
    "    'seq_length':150,\n",
    "    'modality':'audio',\n",
    "    'dataset_path':'/path/to/hdf5/files'\n",
    "})"
   ]
  },
  {
   "cell_type": "markdown",
   "metadata": {},
   "source": [
    "Now we can get our `modality` provider as follows:"
   ]
  },
  {
   "cell_type": "code",
   "execution_count": null,
   "metadata": {},
   "outputs": [],
   "source": [
    "audio_provider = get_dataloader(provider_params)"
   ]
  },
  {
   "cell_type": "markdown",
   "metadata": {},
   "source": [
    "Use case"
   ]
  },
  {
   "cell_type": "code",
   "execution_count": null,
   "metadata": {},
   "outputs": [],
   "source": [
    "for batch in audio_provider:\n",
    "    # perform your process\n",
    "    break"
   ]
  },
  {
   "cell_type": "code",
   "execution_count": null,
   "metadata": {},
   "outputs": [],
   "source": []
  }
 ],
 "metadata": {
  "kernelspec": {
   "display_name": "Py 3.9 End2You",
   "language": "python",
   "name": "end2you"
  },
  "language_info": {
   "codemirror_mode": {
    "name": "ipython",
    "version": 3
   },
   "file_extension": ".py",
   "mimetype": "text/x-python",
   "name": "python",
   "nbconvert_exporter": "python",
   "pygments_lexer": "ipython3",
   "version": "3.9.7"
  }
 },
 "nbformat": 4,
 "nbformat_minor": 4
}
