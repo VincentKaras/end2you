{
 "cells": [
  {
   "cell_type": "markdown",
   "metadata": {},
   "source": [
    "## Data Generation Process"
   ]
  },
  {
   "cell_type": "markdown",
   "metadata": {},
   "source": [
    "The first step in the End2You pipeline is to generate `.hdf5` of the raw input data. \n",
    "The main file that needs to defined is the `input_file.csv` which is a comma separated file with paths of the raw modality information (e.\\g. .wav, .mp4 etc.), and the corresponding label, with a header `raw_file,label_file`. The raw file and the corresponding label file, must have the same name. Example of an `input_file.csv`:\n",
    "\n",
    "``` \n",
    "raw_file,label_file\n",
    "/path/to/data/file1.wav,/path/to/labels/file1.csv\n",
    "/path/to/data/file2.wav,/path/to/labels/file2.csv\n",
    "```\n",
    "\n",
    "The label_file is a file containing a header of the form timestamp,label_1,label_2, where timestamp is the time segment of the raw sequence with the corresponding labels (e.g. label_1, label_2,...).\n",
    "\n",
    "```\n",
    "*Label File example - file1.csv*\n",
    "\n",
    "time,label1,label2\n",
    "0.00,0.24,0.14\n",
    "0.04,0.20,0.18\n",
    "```\n",
    "\n",
    "Let's see how we can create the file if we have the path to the audio raw files and the labels.\n"
   ]
  },
  {
   "cell_type": "markdown",
   "metadata": {},
   "source": [
    "#### Create `input_file.csv`"
   ]
  },
  {
   "cell_type": "code",
   "execution_count": null,
   "metadata": {},
   "outputs": [],
   "source": [
    "import numpy as np\n",
    "\n",
    "from pathlib import Path"
   ]
  },
  {
   "cell_type": "code",
   "execution_count": null,
   "metadata": {},
   "outputs": [],
   "source": [
    "audio_path = Path('/path/to/raw_files')\n",
    "label_path = Path('/path/to/label/files')"
   ]
  },
  {
   "cell_type": "code",
   "execution_count": null,
   "metadata": {},
   "outputs": [],
   "source": [
    "audio_files = np.array([str(x) for x in sorted(list(audio_path.glob('*')))]).reshape(-1, 1)\n",
    "label_files = np.array([str(x) for x in sorted(list(label_path.glob('*')))]).reshape(-1, 1)"
   ]
  },
  {
   "cell_type": "code",
   "execution_count": null,
   "metadata": {},
   "outputs": [],
   "source": [
    "files_array = np.hstack([audio_files, label_files])"
   ]
  },
  {
   "cell_type": "code",
   "execution_count": null,
   "metadata": {},
   "outputs": [],
   "source": [
    "path2save_file = Path('/path/to/save/input_file.csv')\n",
    "np.savetxt(str(path2save_file), files_array, delimiter=',', fmt='%s', header='raw_file,label_file')"
   ]
  },
  {
   "cell_type": "markdown",
   "metadata": {},
   "source": [
    "#### Run generator "
   ]
  },
  {
   "cell_type": "code",
   "execution_count": null,
   "metadata": {},
   "outputs": [],
   "source": [
    "from end2you.generation_process import GenerationProcess\n",
    "from end2you.utils import Params"
   ]
  },
  {
   "cell_type": "markdown",
   "metadata": {},
   "source": [
    "We use the class `Params` to elegantly define the parameters required for the generation process.\n",
    "The parameters for the generation process are the following:\n",
    "```\n",
    "    - save_data_folder: The batch size to load.\n",
    "    - modality        : Modality to be used for. Values [`audio`, `visual`, `audiovisual`].\n",
    "    - input_file      : Path to input_file.csv.\n",
    "    - delimiter       : Label file delimiter.\n",
    "    - fieldnames      : If not provider, it assumes label_files have a header, otherwise provide a header with \n",
    "                        this parameter.\n",
    "    - exclude_cols    : If columns needs to be excluded from process. Takes a string with comma separated \n",
    "                        integers of columns to be excluded (starting from 0) e.g. '0, 2' - exclude first and \n",
    "                        third columns.\n",
    "    - root_dir        : Path to save the output files of end2you.\n",
    "    - log_file        : Name of log file.\n",
    "```\n",
    "\n",
    "Example:"
   ]
  },
  {
   "cell_type": "code",
   "execution_count": null,
   "metadata": {},
   "outputs": [],
   "source": [
    "generator_params = Params(dict_params={\n",
    "            'save_data_folder': '/path/to/save/hdf5/files',\n",
    "            'modality': 'audio',\n",
    "            'input_file': '/path/to/input_file.csv',\n",
    "            'exclude_cols': '0',\n",
    "            'delimiter': ';',\n",
    "            'fieldnames': 'file, timestamp, arousal, valence, liking',\n",
    "            'log_file': 'generation.log',\n",
    "            'root_dir': '/path/to/save/output/files/of/end2you'\n",
    "        })"
   ]
  },
  {
   "cell_type": "code",
   "execution_count": null,
   "metadata": {},
   "outputs": [],
   "source": [
    "generation = GenerationProcess(generator_params)\n",
    "generation.start()"
   ]
  },
  {
   "cell_type": "code",
   "execution_count": null,
   "metadata": {},
   "outputs": [],
   "source": []
  }
 ],
 "metadata": {
  "kernelspec": {
   "display_name": "Py 3.9 End2You",
   "language": "python",
   "name": "end2you"
  },
  "language_info": {
   "codemirror_mode": {
    "name": "ipython",
    "version": 3
   },
   "file_extension": ".py",
   "mimetype": "text/x-python",
   "name": "python",
   "nbconvert_exporter": "python",
   "pygments_lexer": "ipython3",
   "version": "3.9.7"
  }
 },
 "nbformat": 4,
 "nbformat_minor": 4
}
